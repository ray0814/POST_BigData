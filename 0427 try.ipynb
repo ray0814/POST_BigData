{
 "cells": [
  {
   "cell_type": "code",
   "execution_count": 1,
   "metadata": {},
   "outputs": [],
   "source": [
    "%matplotlib inline"
   ]
  },
  {
   "cell_type": "code",
   "execution_count": 2,
   "metadata": {},
   "outputs": [],
   "source": [
    "import pandas as pd\n",
    "import collections \n",
    "import numpy as np\n",
    "import json"
   ]
  },
  {
   "cell_type": "code",
   "execution_count": null,
   "metadata": {},
   "outputs": [],
   "source": [
    "df = pd.read_csv(\"TTS1.csv\", header=None , encoding=\"big5\")"
   ]
  },
  {
   "cell_type": "markdown",
   "metadata": {},
   "source": [
    "- TT\tTT1\t郵件狀態代碼\tX(2) | Status_code\n",
    "- TT\tTT2\t掛號號碼\tX(20) | Mail_num\n",
    "- TT\tTT3\t處理日期\tX(10) | Mail_date\n",
    "- TT\tTT4\t處理時間\tX(8) | Mail_time\n",
    "- TT\tTT5\t處理局號\tX(6) | OP_office // operation office\n",
    "- TT\tTT6\t其它\tX(42) | other\n"
   ]
  },
  {
   "cell_type": "code",
   "execution_count": 4,
   "metadata": {},
   "outputs": [],
   "source": [
    "df.columns = [\"Status_code\", \"Mail_num\", \"Mail_date\", \"Mail_time\", \"OP_office\", \"other\"]"
   ]
  },
  {
   "cell_type": "markdown",
   "metadata": {},
   "source": [
    "# 定義：狀態碼為 **點**"
   ]
  },
  {
   "cell_type": "code",
   "execution_count": 5,
   "metadata": {},
   "outputs": [],
   "source": [
    "nodes = list(df.Status_code.unique())"
   ]
  },
  {
   "cell_type": "code",
   "execution_count": 6,
   "metadata": {},
   "outputs": [],
   "source": [
    "head_nodes = sorted(list(set([ node[0] for node in nodes])))"
   ]
  },
  {
   "cell_type": "code",
   "execution_count": 7,
   "metadata": {},
   "outputs": [],
   "source": [
    "dic_nodes  = dict( zip(head_nodes, range(len(head_nodes))) )"
   ]
  },
  {
   "cell_type": "code",
   "execution_count": 8,
   "metadata": {},
   "outputs": [],
   "source": [
    "label_node = lambda x: dic_nodes[x[0]]"
   ]
  },
  {
   "cell_type": "code",
   "execution_count": 51,
   "metadata": {
    "scrolled": false
   },
   "outputs": [],
   "source": [
    "# 只有狀態為節點\n",
    "data_nodes = []\n",
    "for node in nodes:\n",
    "    data = { \"id\": node, \"group\": label_node(node)}\n",
    "    data_nodes.append(data)"
   ]
  },
  {
   "cell_type": "markdown",
   "metadata": {},
   "source": [
    "# 定義：**線**，狀態的改變\n",
    "- 要依據狀態、郵件號碼及時間去決定**線** 的連接\n",
    "- 時間的轉換，請參考 [pandas.to_datetime()](https://pandas.pydata.org/pandas-docs/stable/reference/api/pandas.to_datetime.html)"
   ]
  },
  {
   "cell_type": "code",
   "execution_count": 11,
   "metadata": {},
   "outputs": [],
   "source": [
    "df['Mail_datetime'] = df.Mail_date+\" \"+df.Mail_time"
   ]
  },
  {
   "cell_type": "code",
   "execution_count": 12,
   "metadata": {},
   "outputs": [],
   "source": [
    "df.Mail_datetime = pd.to_datetime(df.Mail_datetime)"
   ]
  },
  {
   "cell_type": "markdown",
   "metadata": {},
   "source": [
    "```\n",
    "all_mail[\"58668700100170\"] = [ (\"Y4\", \"2018-01-01 09:49:04\"),\n",
    "                           (\"I4\", \"2018-01-01 14:11:51\"), ... ] \n",
    "\n",
    "```"
   ]
  },
  {
   "cell_type": "code",
   "execution_count": 57,
   "metadata": {},
   "outputs": [],
   "source": [
    "df['Code_OP'] = df.Status_code + \"-\" + df.OP_office.map(str) "
   ]
  },
  {
   "cell_type": "code",
   "execution_count": 80,
   "metadata": {},
   "outputs": [],
   "source": [
    "data_nodes = []\n",
    "for node in df['Code_OP'].unique():\n",
    "    data = { \"id\": node, \"group\": label_node(node)}\n",
    "    data_nodes.append(data)"
   ]
  },
  {
   "cell_type": "code",
   "execution_count": 82,
   "metadata": {
    "scrolled": true
   },
   "outputs": [],
   "source": [
    "all_mail = {}\n",
    "all_mail_key = set()\n",
    "for idx, row in df.iterrows():\n",
    "    mail_code = row.Mail_num.strip()\n",
    "    if not mail_code in all_mail_key:\n",
    "        all_mail[mail_code] = []\n",
    "        all_mail_key.add(mail_code)\n",
    "        \n",
    "    all_mail[mail_code].append( (row.Code_OP, row.Mail_datetime) )"
   ]
  },
  {
   "cell_type": "code",
   "execution_count": 83,
   "metadata": {},
   "outputs": [
    {
     "data": {
      "text/plain": [
       "5982"
      ]
     },
     "execution_count": 83,
     "metadata": {},
     "output_type": "execute_result"
    }
   ],
   "source": [
    "len(all_mail.keys())"
   ]
  },
  {
   "cell_type": "code",
   "execution_count": 84,
   "metadata": {},
   "outputs": [
    {
     "data": {
      "text/plain": [
       "[('Y4-500584', Timestamp('2018-01-02 07:50:39')),\n",
       " ('H4-500584', Timestamp('2018-01-02 14:06:59')),\n",
       " ('Z2-500584', Timestamp('2018-01-02 16:34:28'))]"
      ]
     },
     "execution_count": 84,
     "metadata": {},
     "output_type": "execute_result"
    }
   ],
   "source": [
    "all_mail['00120000014101061010']"
   ]
  },
  {
   "cell_type": "code",
   "execution_count": 85,
   "metadata": {},
   "outputs": [
    {
     "data": {
      "text/plain": [
       "[('Y4-540028', 'Y4-540028'),\n",
       " ('Y4-540028', 'I4-540028'),\n",
       " ('I4-540028', 'I4-540028')]"
      ]
     },
     "execution_count": 85,
     "metadata": {},
     "output_type": "execute_result"
    }
   ],
   "source": [
    "def convert_2_edge(mail_status):\n",
    "    edges = []\n",
    "    for idx in range(len(mail_status)-1):\n",
    "        edges.append( ( mail_status[idx][0], mail_status[idx+1][0]) )\n",
    "        \n",
    "    return edges\n",
    "# \"Y4\" -> \"H4\", \n",
    "# \"H4\" -> \"Z2\"\n",
    "\n",
    "mail_status = all_mail['96410700000070']\n",
    "convert_2_edge(mail_status)"
   ]
  },
  {
   "cell_type": "code",
   "execution_count": 86,
   "metadata": {},
   "outputs": [],
   "source": [
    "all_edges = [] \n",
    "for mail_code in all_mail:\n",
    "    status_num = len(all_mail[mail_code])\n",
    "    \n",
    "    if (status_num) > 1:\n",
    "        mail_status = all_mail[mail_code]\n",
    "        all_edges.extend(convert_2_edge(mail_status))"
   ]
  },
  {
   "cell_type": "code",
   "execution_count": 88,
   "metadata": {},
   "outputs": [],
   "source": [
    "value_list = {}\n",
    "for edge, value in collections.Counter(all_edges).most_common(1000):\n",
    "    value_list[edge] = value\n",
    "\n",
    "list_max = np.max(list(value_list.values()))\n",
    "list_min = np.min(list(value_list.values()))\n",
    "list_diff = float(list_max - list_min)\n",
    "\n",
    "k = 20\n",
    "\n",
    "normal_val = lambda x: int(k/3+k*2*(x-list_min)/list_diff)"
   ]
  },
  {
   "cell_type": "code",
   "execution_count": 89,
   "metadata": {},
   "outputs": [
    {
     "data": {
      "text/plain": [
       "380"
      ]
     },
     "execution_count": 89,
     "metadata": {},
     "output_type": "execute_result"
    }
   ],
   "source": [
    "normal_val(1700)"
   ]
  },
  {
   "cell_type": "code",
   "execution_count": 90,
   "metadata": {},
   "outputs": [],
   "source": [
    "data_edges = []\n",
    "for edge, value in collections.Counter(all_edges).most_common(1000):\n",
    "    edge = {\"source\": edge[0], \"target\":edge[1], \"value\":normal_val(value)}\n",
    "    data_edges.append(edge)"
   ]
  },
  {
   "cell_type": "code",
   "execution_count": 91,
   "metadata": {},
   "outputs": [],
   "source": [
    "all_data = { \"nodes\":data_nodes, \"links\":data_edges}"
   ]
  },
  {
   "cell_type": "code",
   "execution_count": 93,
   "metadata": {},
   "outputs": [
    {
     "data": {
      "text/plain": [
       "131313"
      ]
     },
     "execution_count": 93,
     "metadata": {},
     "output_type": "execute_result"
    }
   ],
   "source": [
    "open(\"data_4_d3.json\", 'w').write(json.dumps(all_data, indent=2))"
   ]
  }
 ],
 "metadata": {
  "kernelspec": {
   "display_name": "Python 3",
   "language": "python",
   "name": "python3"
  },
  "language_info": {
   "codemirror_mode": {
    "name": "ipython",
    "version": 3
   },
   "file_extension": ".py",
   "mimetype": "text/x-python",
   "name": "python",
   "nbconvert_exporter": "python",
   "pygments_lexer": "ipython3",
   "version": "3.7.0"
  }
 },
 "nbformat": 4,
 "nbformat_minor": 2
}
