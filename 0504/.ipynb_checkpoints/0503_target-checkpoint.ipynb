{
 "cells": [
  {
   "cell_type": "code",
   "execution_count": 1,
   "metadata": {},
   "outputs": [],
   "source": [
    "# 把網圖型資料與地點位置結合"
   ]
  },
  {
   "cell_type": "code",
   "execution_count": 52,
   "metadata": {},
   "outputs": [],
   "source": [
    "%matplotlib inline"
   ]
  },
  {
   "cell_type": "code",
   "execution_count": 53,
   "metadata": {},
   "outputs": [],
   "source": [
    "import pandas as pd\n",
    "from pathlib import Path\n",
    "import collections \n",
    "import numpy as np\n",
    "import json\n",
    "import dask.dataframe as dd\n",
    "import time\n",
    "import zipfile as zfile\n",
    "import threading\n",
    "import datetime as dt"
   ]
  },
  {
   "cell_type": "code",
   "execution_count": 54,
   "metadata": {},
   "outputs": [
    {
     "data": {
      "text/plain": [
       "['CC.csv',\n",
       " 'CC.SQL',\n",
       " 'GPS.SQL',\n",
       " 'GPSS1.CSV',\n",
       " 'TT.SQL',\n",
       " 'TTS1.csv',\n",
       " '中華郵政大數據競賽資料欄位規格.xlsx',\n",
       " '中華郵政大數據競賽資料欄位規格_新.xlsx',\n",
       " 'ORACLE相關/',\n",
       " 'ORACLE相關/ACC_Oracle.SQL',\n",
       " 'ORACLE相關/CC_Oracle.SQL',\n",
       " 'ORACLE相關/createDB.txt',\n",
       " 'ORACLE相關/GPS_Oracle.SQL',\n",
       " 'ORACLE相關/sqlldr.exe',\n",
       " 'ORACLE相關/TTS1.CTL',\n",
       " 'ORACLE相關/TT_Oracle.SQL',\n",
       " '培訓暨說明會 - 簡報檔/',\n",
       " '培訓暨說明會 - 簡報檔/1.競賽辦法說明.pdf',\n",
       " '培訓暨說明會 - 簡報檔/2.競賽資料說明-1.pdf',\n",
       " '培訓暨說明會 - 簡報檔/2.競賽資料說明-2(中華郵政大數據競賽資料欄位規格).xlsx',\n",
       " '培訓暨說明會 - 簡報檔/3.郵務知識培訓-1.pdf',\n",
       " '培訓暨說明會 - 簡報檔/3.郵務知識培訓-2.pdf',\n",
       " '培訓暨說明會 - 簡報檔/4.微軟Power BI分析軟體介紹.pdf',\n",
       " '培訓暨說明會 - 簡報檔/5.競賽命題及方向之工研院楊奇達經理建議.pdf',\n",
       " '培訓暨說明會 - 簡報檔/5.競賽命題及方向之高端訓博士建議.pdf',\n",
       " 'ACC.SQL',\n",
       " 'ACCS1.csv']"
      ]
     },
     "execution_count": 54,
     "metadata": {},
     "output_type": "execute_result"
    }
   ],
   "source": [
    "df_fn = []\n",
    "zf = zfile.ZipFile('E:\\POSTDB.zip')\n",
    "for fname in zfile.ZipFile.namelist(zf):\n",
    "    df_fn.append(fname.encode('cp437').decode('big5'))\n",
    "df_fn"
   ]
  },
  {
   "cell_type": "code",
   "execution_count": 55,
   "metadata": {},
   "outputs": [],
   "source": [
    "# 載入特種郵件追蹤查詢資料檔\n",
    "zf = zfile.ZipFile('E:\\POSTDB.zip')\n",
    "df = pd.read_csv(zf.open('TTS1.csv'), # 檔案位置\n",
    "                 header=None, # 首行是否有欄位名稱\n",
    "                 encoding=\"big5\", # 編碼\n",
    "                 # dtype = \"str\", # 資料類型\n",
    "                 nrows = 50000, #讀取行數\n",
    "                 names = [\"Status_code\", \"Mail_num\", \"Mail_date\", \"Mail_time\", \"OP_office\", \"other\", \"Mail_datetime\"] # 欄位名稱\n",
    "                )"
   ]
  },
  {
   "cell_type": "code",
   "execution_count": 56,
   "metadata": {},
   "outputs": [],
   "source": [
    "df.Mail_datetime = pd.to_datetime(df.Mail_date + \" \" + df.Mail_time)"
   ]
  },
  {
   "cell_type": "code",
   "execution_count": null,
   "metadata": {},
   "outputs": [],
   "source": [
    "# 統計相關\n",
    "\n",
    "df.groupby(['Mail_num'], sort = True)['Mail_datetime'].max()\n",
    "\n",
    "mail_counts = df.groupby(['Mail_num']).size().reset_index(name='counts').sort_values(['counts'], ascending=False)\n",
    "mail_cnts = mail_counts.groupby(['counts']).size().reset_index(name='cnts').sort_values(['cnts'], ascending=False)\n",
    "mail_cnts"
   ]
  },
  {
   "cell_type": "code",
   "execution_count": 57,
   "metadata": {},
   "outputs": [],
   "source": [
    "# 要執行以下程式時，需重載資料\n",
    "del df['Mail_date']\n",
    "del df['Mail_time']\n",
    "del df['other']\n"
   ]
  },
  {
   "cell_type": "code",
   "execution_count": 58,
   "metadata": {},
   "outputs": [],
   "source": [
    "mail_df = df.sort_values([\"Mail_num\", \"Mail_datetime\"])"
   ]
  },
  {
   "cell_type": "raw",
   "metadata": {},
   "source": [
    "df.set_index([\"Mail_num\", \"OP_office\"], inplace=True)"
   ]
  },
  {
   "cell_type": "code",
   "execution_count": 59,
   "metadata": {},
   "outputs": [
    {
     "data": {
      "text/html": [
       "<div>\n",
       "<style scoped>\n",
       "    .dataframe tbody tr th:only-of-type {\n",
       "        vertical-align: middle;\n",
       "    }\n",
       "\n",
       "    .dataframe tbody tr th {\n",
       "        vertical-align: top;\n",
       "    }\n",
       "\n",
       "    .dataframe thead th {\n",
       "        text-align: right;\n",
       "    }\n",
       "</style>\n",
       "<table border=\"1\" class=\"dataframe\">\n",
       "  <thead>\n",
       "    <tr style=\"text-align: right;\">\n",
       "      <th></th>\n",
       "      <th>Status_code</th>\n",
       "      <th>Mail_num</th>\n",
       "      <th>OP_office</th>\n",
       "      <th>Mail_datetime</th>\n",
       "    </tr>\n",
       "  </thead>\n",
       "  <tbody>\n",
       "    <tr>\n",
       "      <th>0</th>\n",
       "      <td>Y4</td>\n",
       "      <td>00000000000000</td>\n",
       "      <td>330031</td>\n",
       "      <td>2018-01-01 09:49:04</td>\n",
       "    </tr>\n",
       "    <tr>\n",
       "      <th>1</th>\n",
       "      <td>Y4</td>\n",
       "      <td>00000000000000</td>\n",
       "      <td>330031</td>\n",
       "      <td>2018-01-01 09:58:08</td>\n",
       "    </tr>\n",
       "    <tr>\n",
       "      <th>2</th>\n",
       "      <td>I4</td>\n",
       "      <td>00000000000000</td>\n",
       "      <td>330031</td>\n",
       "      <td>2018-01-01 14:11:51</td>\n",
       "    </tr>\n",
       "  </tbody>\n",
       "</table>\n",
       "</div>"
      ],
      "text/plain": [
       "  Status_code              Mail_num  OP_office       Mail_datetime\n",
       "0          Y4  00000000000000           330031 2018-01-01 09:49:04\n",
       "1          Y4  00000000000000           330031 2018-01-01 09:58:08\n",
       "2          I4  00000000000000           330031 2018-01-01 14:11:51"
      ]
     },
     "execution_count": 59,
     "metadata": {},
     "output_type": "execute_result"
    }
   ],
   "source": [
    "df.sort_values([\"Mail_num\", \"Mail_datetime\"]).head(3)"
   ]
  },
  {
   "cell_type": "code",
   "execution_count": 9,
   "metadata": {},
   "outputs": [
    {
     "data": {
      "text/html": [
       "<div>\n",
       "<style scoped>\n",
       "    .dataframe tbody tr th:only-of-type {\n",
       "        vertical-align: middle;\n",
       "    }\n",
       "\n",
       "    .dataframe tbody tr th {\n",
       "        vertical-align: top;\n",
       "    }\n",
       "\n",
       "    .dataframe thead th {\n",
       "        text-align: right;\n",
       "    }\n",
       "</style>\n",
       "<table border=\"1\" class=\"dataframe\">\n",
       "  <thead>\n",
       "    <tr style=\"text-align: right;\">\n",
       "      <th></th>\n",
       "      <th>index</th>\n",
       "      <th>Status_code</th>\n",
       "      <th>Mail_num</th>\n",
       "      <th>OP_office</th>\n",
       "      <th>Mail_datetime</th>\n",
       "    </tr>\n",
       "  </thead>\n",
       "  <tbody>\n",
       "    <tr>\n",
       "      <th>0</th>\n",
       "      <td>0</td>\n",
       "      <td>Y4</td>\n",
       "      <td>00000000000000</td>\n",
       "      <td>330031</td>\n",
       "      <td>2018-01-01 09:49:04</td>\n",
       "    </tr>\n",
       "    <tr>\n",
       "      <th>1</th>\n",
       "      <td>1</td>\n",
       "      <td>Y4</td>\n",
       "      <td>00000000000000</td>\n",
       "      <td>330031</td>\n",
       "      <td>2018-01-01 09:58:08</td>\n",
       "    </tr>\n",
       "    <tr>\n",
       "      <th>2</th>\n",
       "      <td>2</td>\n",
       "      <td>I4</td>\n",
       "      <td>00000000000000</td>\n",
       "      <td>330031</td>\n",
       "      <td>2018-01-01 14:11:51</td>\n",
       "    </tr>\n",
       "  </tbody>\n",
       "</table>\n",
       "</div>"
      ],
      "text/plain": [
       "   index Status_code              Mail_num  OP_office       Mail_datetime\n",
       "0      0          Y4  00000000000000           330031 2018-01-01 09:49:04\n",
       "1      1          Y4  00000000000000           330031 2018-01-01 09:58:08\n",
       "2      2          I4  00000000000000           330031 2018-01-01 14:11:51"
      ]
     },
     "execution_count": 9,
     "metadata": {},
     "output_type": "execute_result"
    }
   ],
   "source": [
    "df.reset_index().head(3)"
   ]
  },
  {
   "cell_type": "code",
   "execution_count": 14,
   "metadata": {},
   "outputs": [],
   "source": [
    "# 載入郵局資料檔\n",
    "post_office = pd.read_csv('D:\\GitHub\\POSTBD\\coach\\Post_All_new.csv')\n",
    "new_po = post_office[[\"郵務局號\", \"局名\", \"緯度\", \"經度\"]]\n",
    "new_po.columns = [\"post_code\", \"name\", \"lon\", \"lat\"]\n",
    "po_dict = new_po.set_index(\"post_code\").to_dict()\n"
   ]
  },
  {
   "cell_type": "code",
   "execution_count": 38,
   "metadata": {},
   "outputs": [],
   "source": [
    "# 輸入郵務局號，回傳經緯度座標\n",
    "def getPOInfo(post_code):\n",
    "    if isPOCode(post_code):\n",
    "        return (po_dict['name'][post_code],\n",
    "                po_dict['lon'][post_code],\n",
    "                po_dict['lat'][post_code])\n",
    "    else:\n",
    "        return (\"\",\"\",\"\")"
   ]
  },
  {
   "cell_type": "code",
   "execution_count": 39,
   "metadata": {},
   "outputs": [],
   "source": [
    "# 判斷郵務局號是否存在\n",
    "unique_po_code = set(po_dict['name'].keys())\n",
    "def isPOCode(post_code):\n",
    "    if post_code in unique_po_code:\n",
    "        return True\n",
    "    else:\n",
    "        return False"
   ]
  },
  {
   "cell_type": "code",
   "execution_count": 40,
   "metadata": {},
   "outputs": [
    {
     "name": "stdout",
     "output_type": "stream",
     "text": [
      "處理  50000 筆資料，組成  28364  筆資料，共執行： 4.182816028594971 秒\n"
     ]
    }
   ],
   "source": [
    "# 整合郵件資料的郵號與地點\n",
    "\n",
    "start_time = time.time()\n",
    "\n",
    "all_mail = {}\n",
    "all_mail_key = set()\n",
    "for idx, row in df.iterrows():\n",
    "    mail_code = row.Mail_num.strip()\n",
    "    if not mail_code in all_mail_key:\n",
    "        all_mail[mail_code] = []\n",
    "        all_mail_key.add(mail_code)\n",
    "        \n",
    "    all_mail[mail_code].append( (row.OP_office, row.Mail_datetime, row.Status_code) )\n",
    "    \n",
    "time_diff = time.time() - start_time\n",
    "print(\"處理 \",len(df), \"筆資料，組成 \", len(all_mail.keys()), \" 筆資料，共執行：\", time_diff, \"秒\")"
   ]
  },
  {
   "cell_type": "code",
   "execution_count": 41,
   "metadata": {},
   "outputs": [],
   "source": [
    "def convert_2_edge(mail_status):\n",
    "    edges = []\n",
    "    for idx in range(len(mail_status) - 1):\n",
    "        edges.append((mail_status[idx][0], mail_status[idx + 1][0],\n",
    "                     mail_status[idx][2], mail_status[idx + 1][2]))\n",
    "        \n",
    "    return edges"
   ]
  },
  {
   "cell_type": "code",
   "execution_count": 42,
   "metadata": {},
   "outputs": [],
   "source": [
    "all_edges = [] \n",
    "for mail_code in all_mail:\n",
    "    status_num = len(all_mail[mail_code])\n",
    "    \n",
    "    if (status_num) > 1:\n",
    "        mail_status = all_mail[mail_code]\n",
    "        all_edges.extend(convert_2_edge(mail_status))"
   ]
  },
  {
   "cell_type": "code",
   "execution_count": 43,
   "metadata": {},
   "outputs": [],
   "source": [
    "src_nodes = set([ ele[0] for ele in all_edges])\n",
    "tar_nodes = set([ ele[1] for ele in all_edges]) \n",
    "all_nodes = list(src_nodes.union(tar_nodes))"
   ]
  },
  {
   "cell_type": "code",
   "execution_count": 44,
   "metadata": {},
   "outputs": [
    {
     "name": "stdout",
     "output_type": "stream",
     "text": [
      "696 553 738\n"
     ]
    }
   ],
   "source": [
    "print(len(src_nodes), len(tar_nodes), len(all_nodes))"
   ]
  },
  {
   "cell_type": "code",
   "execution_count": null,
   "metadata": {},
   "outputs": [],
   "source": [
    "getPOInfo(all_nodes[12])\n",
    "\n"
   ]
  },
  {
   "cell_type": "code",
   "execution_count": 48,
   "metadata": {},
   "outputs": [],
   "source": [
    "import simplekml"
   ]
  },
  {
   "cell_type": "code",
   "execution_count": 49,
   "metadata": {},
   "outputs": [],
   "source": [
    "kml = simplekml.Kml()"
   ]
  },
  {
   "cell_type": "code",
   "execution_count": 50,
   "metadata": {},
   "outputs": [],
   "source": [
    "for x in all_edges[:3]:\n",
    "    src, target, src_state, target_state = x\n",
    "    if isPOCode(src) and isPOCode(target):\n",
    "        src_pnt = getPOInfo(src)\n",
    "        tar_pnt = getPOInfo(target)\n",
    "        \n",
    "        # point\n",
    "        kml.newpoint(name=str(src), \n",
    "                     description=src_pnt[0],\n",
    "                     coords=[(src_pnt[2],src_pnt[1])])\n",
    "        kml.newpoint(name=str(target), \n",
    "                     description=tar_pnt[0],\n",
    "                     coords=[(tar_pnt[2],tar_pnt[1])])\n",
    "        \n",
    "        \n",
    "        # line\n",
    "        kml.newlinestring(\n",
    "            name=\"Pathway\", \n",
    "            description=\"%s to %s\"%(src_pnt[0],tar_pnt[0]) ,\n",
    "            coords=[(src_pnt[2],src_pnt[1]), \n",
    "                    (tar_pnt[2],tar_pnt[1])])"
   ]
  },
  {
   "cell_type": "code",
   "execution_count": 51,
   "metadata": {},
   "outputs": [],
   "source": [
    "kml.save(\"test.kml\")"
   ]
  },
  {
   "cell_type": "code",
   "execution_count": null,
   "metadata": {},
   "outputs": [],
   "source": []
  }
 ],
 "metadata": {
  "kernelspec": {
   "display_name": "Python 3",
   "language": "python",
   "name": "python3"
  },
  "language_info": {
   "codemirror_mode": {
    "name": "ipython",
    "version": 3
   },
   "file_extension": ".py",
   "mimetype": "text/x-python",
   "name": "python",
   "nbconvert_exporter": "python",
   "pygments_lexer": "ipython3",
   "version": "3.7.0"
  }
 },
 "nbformat": 4,
 "nbformat_minor": 2
}
