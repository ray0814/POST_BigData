{
 "cells": [
  {
   "cell_type": "code",
   "execution_count": 1,
   "metadata": {},
   "outputs": [],
   "source": [
    "%matplotlib inline"
   ]
  },
  {
   "cell_type": "code",
   "execution_count": 2,
   "metadata": {},
   "outputs": [],
   "source": [
    "import pandas as pd\n",
    "from pathlib import Path\n",
    "import collections \n",
    "import numpy as np\n",
    "import json\n",
    "import dask.dataframe as dd\n",
    "import time\n",
    "import zipfile as zfile\n",
    "import threading\n",
    "import datetime as dt"
   ]
  },
  {
   "cell_type": "code",
   "execution_count": 3,
   "metadata": {},
   "outputs": [
    {
     "data": {
      "text/plain": [
       "['CC.csv',\n",
       " 'CC.SQL',\n",
       " 'GPS.SQL',\n",
       " 'GPSS1.CSV',\n",
       " 'TT.SQL',\n",
       " 'TTS1.csv',\n",
       " '中華郵政大數據競賽資料欄位規格.xlsx',\n",
       " '中華郵政大數據競賽資料欄位規格_新.xlsx',\n",
       " 'ORACLE相關/',\n",
       " 'ORACLE相關/ACC_Oracle.SQL',\n",
       " 'ORACLE相關/CC_Oracle.SQL',\n",
       " 'ORACLE相關/createDB.txt',\n",
       " 'ORACLE相關/GPS_Oracle.SQL',\n",
       " 'ORACLE相關/sqlldr.exe',\n",
       " 'ORACLE相關/TTS1.CTL',\n",
       " 'ORACLE相關/TT_Oracle.SQL',\n",
       " '培訓暨說明會 - 簡報檔/',\n",
       " '培訓暨說明會 - 簡報檔/1.競賽辦法說明.pdf',\n",
       " '培訓暨說明會 - 簡報檔/2.競賽資料說明-1.pdf',\n",
       " '培訓暨說明會 - 簡報檔/2.競賽資料說明-2(中華郵政大數據競賽資料欄位規格).xlsx',\n",
       " '培訓暨說明會 - 簡報檔/3.郵務知識培訓-1.pdf',\n",
       " '培訓暨說明會 - 簡報檔/3.郵務知識培訓-2.pdf',\n",
       " '培訓暨說明會 - 簡報檔/4.微軟Power BI分析軟體介紹.pdf',\n",
       " '培訓暨說明會 - 簡報檔/5.競賽命題及方向之工研院楊奇達經理建議.pdf',\n",
       " '培訓暨說明會 - 簡報檔/5.競賽命題及方向之高端訓博士建議.pdf',\n",
       " 'ACC.SQL',\n",
       " 'ACCS1.csv']"
      ]
     },
     "execution_count": 3,
     "metadata": {},
     "output_type": "execute_result"
    }
   ],
   "source": [
    "# 取得壓縮檔內的檔名\n",
    "\n",
    "df_fn = []\n",
    "zf = zfile.ZipFile('../POSTDB.zip')\n",
    "for fname in zfile.ZipFile.namelist(zf):\n",
    "    df_fn.append(fname.encode('cp437').decode('big5'))\n",
    "df_fn"
   ]
  },
  {
   "cell_type": "code",
   "execution_count": 4,
   "metadata": {},
   "outputs": [],
   "source": [
    "# df = pd.read_csv(\"mid_set/TTS1.csv\", header=None, encoding=\"big5\")\n",
    "zf = zfile.ZipFile('../POSTDB.zip')\n",
    "df = pd.read_csv(zf.open('TTS1.csv'), # 檔案位置\n",
    "                 header=None, # 首行是否有欄位名稱\n",
    "                 encoding=\"big5\", # 編碼\n",
    "                 dtype = \"str\", # 資料類型\n",
    "                 nrows = 200000000, #讀取行數\n",
    "                 names = [\"Status_code\", \"Mail_num\", \"Mail_date\", \"Mail_time\", \"OP_office\", \"other\"] # 欄位名稱\n",
    "                )"
   ]
  },
  {
   "cell_type": "code",
   "execution_count": 5,
   "metadata": {},
   "outputs": [
    {
     "data": {
      "text/html": [
       "<div>\n",
       "<style scoped>\n",
       "    .dataframe tbody tr th:only-of-type {\n",
       "        vertical-align: middle;\n",
       "    }\n",
       "\n",
       "    .dataframe tbody tr th {\n",
       "        vertical-align: top;\n",
       "    }\n",
       "\n",
       "    .dataframe thead th {\n",
       "        text-align: right;\n",
       "    }\n",
       "</style>\n",
       "<table border=\"1\" class=\"dataframe\">\n",
       "  <thead>\n",
       "    <tr style=\"text-align: right;\">\n",
       "      <th></th>\n",
       "      <th>counts</th>\n",
       "      <th>cnts</th>\n",
       "    </tr>\n",
       "  </thead>\n",
       "  <tbody>\n",
       "    <tr>\n",
       "      <th>3</th>\n",
       "      <td>4</td>\n",
       "      <td>26054547</td>\n",
       "    </tr>\n",
       "    <tr>\n",
       "      <th>2</th>\n",
       "      <td>3</td>\n",
       "      <td>6362504</td>\n",
       "    </tr>\n",
       "    <tr>\n",
       "      <th>4</th>\n",
       "      <td>5</td>\n",
       "      <td>4033064</td>\n",
       "    </tr>\n",
       "    <tr>\n",
       "      <th>0</th>\n",
       "      <td>1</td>\n",
       "      <td>3705017</td>\n",
       "    </tr>\n",
       "    <tr>\n",
       "      <th>1</th>\n",
       "      <td>2</td>\n",
       "      <td>2432054</td>\n",
       "    </tr>\n",
       "    <tr>\n",
       "      <th>5</th>\n",
       "      <td>6</td>\n",
       "      <td>1540988</td>\n",
       "    </tr>\n",
       "    <tr>\n",
       "      <th>7</th>\n",
       "      <td>8</td>\n",
       "      <td>1373221</td>\n",
       "    </tr>\n",
       "    <tr>\n",
       "      <th>6</th>\n",
       "      <td>7</td>\n",
       "      <td>1032139</td>\n",
       "    </tr>\n",
       "    <tr>\n",
       "      <th>8</th>\n",
       "      <td>9</td>\n",
       "      <td>919168</td>\n",
       "    </tr>\n",
       "    <tr>\n",
       "      <th>9</th>\n",
       "      <td>10</td>\n",
       "      <td>345810</td>\n",
       "    </tr>\n",
       "    <tr>\n",
       "      <th>12</th>\n",
       "      <td>13</td>\n",
       "      <td>174427</td>\n",
       "    </tr>\n",
       "    <tr>\n",
       "      <th>10</th>\n",
       "      <td>11</td>\n",
       "      <td>173281</td>\n",
       "    </tr>\n",
       "    <tr>\n",
       "      <th>11</th>\n",
       "      <td>12</td>\n",
       "      <td>170698</td>\n",
       "    </tr>\n",
       "    <tr>\n",
       "      <th>13</th>\n",
       "      <td>14</td>\n",
       "      <td>49354</td>\n",
       "    </tr>\n",
       "    <tr>\n",
       "      <th>14</th>\n",
       "      <td>15</td>\n",
       "      <td>23438</td>\n",
       "    </tr>\n",
       "    <tr>\n",
       "      <th>15</th>\n",
       "      <td>16</td>\n",
       "      <td>14002</td>\n",
       "    </tr>\n",
       "    <tr>\n",
       "      <th>16</th>\n",
       "      <td>17</td>\n",
       "      <td>13049</td>\n",
       "    </tr>\n",
       "    <tr>\n",
       "      <th>17</th>\n",
       "      <td>18</td>\n",
       "      <td>9235</td>\n",
       "    </tr>\n",
       "    <tr>\n",
       "      <th>18</th>\n",
       "      <td>19</td>\n",
       "      <td>5393</td>\n",
       "    </tr>\n",
       "    <tr>\n",
       "      <th>19</th>\n",
       "      <td>20</td>\n",
       "      <td>4195</td>\n",
       "    </tr>\n",
       "    <tr>\n",
       "      <th>21</th>\n",
       "      <td>22</td>\n",
       "      <td>3270</td>\n",
       "    </tr>\n",
       "    <tr>\n",
       "      <th>20</th>\n",
       "      <td>21</td>\n",
       "      <td>3219</td>\n",
       "    </tr>\n",
       "    <tr>\n",
       "      <th>22</th>\n",
       "      <td>23</td>\n",
       "      <td>2191</td>\n",
       "    </tr>\n",
       "    <tr>\n",
       "      <th>23</th>\n",
       "      <td>24</td>\n",
       "      <td>1889</td>\n",
       "    </tr>\n",
       "    <tr>\n",
       "      <th>24</th>\n",
       "      <td>25</td>\n",
       "      <td>1286</td>\n",
       "    </tr>\n",
       "    <tr>\n",
       "      <th>25</th>\n",
       "      <td>26</td>\n",
       "      <td>1177</td>\n",
       "    </tr>\n",
       "    <tr>\n",
       "      <th>26</th>\n",
       "      <td>27</td>\n",
       "      <td>947</td>\n",
       "    </tr>\n",
       "    <tr>\n",
       "      <th>27</th>\n",
       "      <td>28</td>\n",
       "      <td>913</td>\n",
       "    </tr>\n",
       "    <tr>\n",
       "      <th>28</th>\n",
       "      <td>29</td>\n",
       "      <td>640</td>\n",
       "    </tr>\n",
       "    <tr>\n",
       "      <th>29</th>\n",
       "      <td>30</td>\n",
       "      <td>628</td>\n",
       "    </tr>\n",
       "    <tr>\n",
       "      <th>...</th>\n",
       "      <td>...</td>\n",
       "      <td>...</td>\n",
       "    </tr>\n",
       "    <tr>\n",
       "      <th>183</th>\n",
       "      <td>184</td>\n",
       "      <td>2</td>\n",
       "    </tr>\n",
       "    <tr>\n",
       "      <th>113</th>\n",
       "      <td>114</td>\n",
       "      <td>2</td>\n",
       "    </tr>\n",
       "    <tr>\n",
       "      <th>204</th>\n",
       "      <td>207</td>\n",
       "      <td>1</td>\n",
       "    </tr>\n",
       "    <tr>\n",
       "      <th>111</th>\n",
       "      <td>112</td>\n",
       "      <td>1</td>\n",
       "    </tr>\n",
       "    <tr>\n",
       "      <th>233</th>\n",
       "      <td>247</td>\n",
       "      <td>1</td>\n",
       "    </tr>\n",
       "    <tr>\n",
       "      <th>232</th>\n",
       "      <td>245</td>\n",
       "      <td>1</td>\n",
       "    </tr>\n",
       "    <tr>\n",
       "      <th>231</th>\n",
       "      <td>244</td>\n",
       "      <td>1</td>\n",
       "    </tr>\n",
       "    <tr>\n",
       "      <th>230</th>\n",
       "      <td>242</td>\n",
       "      <td>1</td>\n",
       "    </tr>\n",
       "    <tr>\n",
       "      <th>229</th>\n",
       "      <td>240</td>\n",
       "      <td>1</td>\n",
       "    </tr>\n",
       "    <tr>\n",
       "      <th>227</th>\n",
       "      <td>238</td>\n",
       "      <td>1</td>\n",
       "    </tr>\n",
       "    <tr>\n",
       "      <th>226</th>\n",
       "      <td>236</td>\n",
       "      <td>1</td>\n",
       "    </tr>\n",
       "    <tr>\n",
       "      <th>225</th>\n",
       "      <td>235</td>\n",
       "      <td>1</td>\n",
       "    </tr>\n",
       "    <tr>\n",
       "      <th>224</th>\n",
       "      <td>234</td>\n",
       "      <td>1</td>\n",
       "    </tr>\n",
       "    <tr>\n",
       "      <th>223</th>\n",
       "      <td>230</td>\n",
       "      <td>1</td>\n",
       "    </tr>\n",
       "    <tr>\n",
       "      <th>222</th>\n",
       "      <td>229</td>\n",
       "      <td>1</td>\n",
       "    </tr>\n",
       "    <tr>\n",
       "      <th>219</th>\n",
       "      <td>226</td>\n",
       "      <td>1</td>\n",
       "    </tr>\n",
       "    <tr>\n",
       "      <th>220</th>\n",
       "      <td>227</td>\n",
       "      <td>1</td>\n",
       "    </tr>\n",
       "    <tr>\n",
       "      <th>205</th>\n",
       "      <td>209</td>\n",
       "      <td>1</td>\n",
       "    </tr>\n",
       "    <tr>\n",
       "      <th>218</th>\n",
       "      <td>224</td>\n",
       "      <td>1</td>\n",
       "    </tr>\n",
       "    <tr>\n",
       "      <th>197</th>\n",
       "      <td>199</td>\n",
       "      <td>1</td>\n",
       "    </tr>\n",
       "    <tr>\n",
       "      <th>216</th>\n",
       "      <td>222</td>\n",
       "      <td>1</td>\n",
       "    </tr>\n",
       "    <tr>\n",
       "      <th>177</th>\n",
       "      <td>178</td>\n",
       "      <td>1</td>\n",
       "    </tr>\n",
       "    <tr>\n",
       "      <th>135</th>\n",
       "      <td>136</td>\n",
       "      <td>1</td>\n",
       "    </tr>\n",
       "    <tr>\n",
       "      <th>212</th>\n",
       "      <td>217</td>\n",
       "      <td>1</td>\n",
       "    </tr>\n",
       "    <tr>\n",
       "      <th>211</th>\n",
       "      <td>216</td>\n",
       "      <td>1</td>\n",
       "    </tr>\n",
       "    <tr>\n",
       "      <th>131</th>\n",
       "      <td>132</td>\n",
       "      <td>1</td>\n",
       "    </tr>\n",
       "    <tr>\n",
       "      <th>126</th>\n",
       "      <td>127</td>\n",
       "      <td>1</td>\n",
       "    </tr>\n",
       "    <tr>\n",
       "      <th>200</th>\n",
       "      <td>203</td>\n",
       "      <td>1</td>\n",
       "    </tr>\n",
       "    <tr>\n",
       "      <th>202</th>\n",
       "      <td>205</td>\n",
       "      <td>1</td>\n",
       "    </tr>\n",
       "    <tr>\n",
       "      <th>234</th>\n",
       "      <td>297</td>\n",
       "      <td>1</td>\n",
       "    </tr>\n",
       "  </tbody>\n",
       "</table>\n",
       "<p>235 rows × 2 columns</p>\n",
       "</div>"
      ],
      "text/plain": [
       "     counts      cnts\n",
       "3         4  26054547\n",
       "2         3   6362504\n",
       "4         5   4033064\n",
       "0         1   3705017\n",
       "1         2   2432054\n",
       "5         6   1540988\n",
       "7         8   1373221\n",
       "6         7   1032139\n",
       "8         9    919168\n",
       "9        10    345810\n",
       "12       13    174427\n",
       "10       11    173281\n",
       "11       12    170698\n",
       "13       14     49354\n",
       "14       15     23438\n",
       "15       16     14002\n",
       "16       17     13049\n",
       "17       18      9235\n",
       "18       19      5393\n",
       "19       20      4195\n",
       "21       22      3270\n",
       "20       21      3219\n",
       "22       23      2191\n",
       "23       24      1889\n",
       "24       25      1286\n",
       "25       26      1177\n",
       "26       27       947\n",
       "27       28       913\n",
       "28       29       640\n",
       "29       30       628\n",
       "..      ...       ...\n",
       "183     184         2\n",
       "113     114         2\n",
       "204     207         1\n",
       "111     112         1\n",
       "233     247         1\n",
       "232     245         1\n",
       "231     244         1\n",
       "230     242         1\n",
       "229     240         1\n",
       "227     238         1\n",
       "226     236         1\n",
       "225     235         1\n",
       "224     234         1\n",
       "223     230         1\n",
       "222     229         1\n",
       "219     226         1\n",
       "220     227         1\n",
       "205     209         1\n",
       "218     224         1\n",
       "197     199         1\n",
       "216     222         1\n",
       "177     178         1\n",
       "135     136         1\n",
       "212     217         1\n",
       "211     216         1\n",
       "131     132         1\n",
       "126     127         1\n",
       "200     203         1\n",
       "202     205         1\n",
       "234     297         1\n",
       "\n",
       "[235 rows x 2 columns]"
      ]
     },
     "execution_count": 5,
     "metadata": {},
     "output_type": "execute_result"
    }
   ],
   "source": [
    "mail_counts = df.groupby(['Mail_num']).size().reset_index(name='counts').sort_values(['counts'], ascending=False)\n",
    "mail_cnts = mail_counts.groupby(['counts']).size().reset_index(name='cnts').sort_values(['cnts'], ascending=False)\n",
    "mail_cnts"
   ]
  },
  {
   "cell_type": "markdown",
   "metadata": {},
   "source": [
    "#### TT1 , X(2) , 郵件狀態代碼，TT2 , X(20) , 掛號號碼，TT3 , X(10) , 處理日期，TT4 , X(8) , 處理時間，TT5 , X(6) , 處理局號，TT6 , X(42) , 其它"
   ]
  },
  {
   "cell_type": "code",
   "execution_count": 93,
   "metadata": {},
   "outputs": [],
   "source": [
    "nodes = list(df.Status_code.unique())"
   ]
  },
  {
   "cell_type": "code",
   "execution_count": 94,
   "metadata": {},
   "outputs": [],
   "source": [
    "head_nodes = sorted(list(set([node[0] for node in nodes])))"
   ]
  },
  {
   "cell_type": "code",
   "execution_count": 95,
   "metadata": {},
   "outputs": [],
   "source": [
    "dic_nodes = dict(zip(head_nodes, range(len(head_nodes))))"
   ]
  },
  {
   "cell_type": "code",
   "execution_count": 96,
   "metadata": {},
   "outputs": [],
   "source": [
    "label_node = lambda x: dic_nodes[x[0]]"
   ]
  },
  {
   "cell_type": "code",
   "execution_count": 97,
   "metadata": {},
   "outputs": [],
   "source": [
    "data_nodes = []\n",
    "for node in nodes:\n",
    "    data = {\"id\":node, \"group\":label_node(node)}\n",
    "    data_nodes.append(data)"
   ]
  },
  {
   "cell_type": "code",
   "execution_count": 98,
   "metadata": {},
   "outputs": [],
   "source": [
    "df['Mail_datetime'] = pd.to_datetime(df.Mail_date + \" \" + df.Mail_time)"
   ]
  },
  {
   "cell_type": "code",
   "execution_count": 99,
   "metadata": {},
   "outputs": [
    {
     "data": {
      "text/plain": [
       "10000000"
      ]
     },
     "execution_count": 99,
     "metadata": {},
     "output_type": "execute_result"
    }
   ],
   "source": [
    "len(df)"
   ]
  },
  {
   "cell_type": "code",
   "execution_count": 78,
   "metadata": {},
   "outputs": [
    {
     "data": {
      "text/plain": [
       "array(['00000000000000      ', '58668700100170      ',\n",
       "       '59928400100170      ', ..., '15388440206518      ',\n",
       "       '15388540206518      ', '15388640206518      '], dtype=object)"
      ]
     },
     "execution_count": 78,
     "metadata": {},
     "output_type": "execute_result"
    }
   ],
   "source": [
    "df.Mail_num.unique()"
   ]
  },
  {
   "cell_type": "code",
   "execution_count": 100,
   "metadata": {},
   "outputs": [
    {
     "name": "stdout",
     "output_type": "stream",
     "text": [
      "處理  10000000 筆資料，組成  4419944  筆資料，共執行： 931.2079753875732 秒\n"
     ]
    }
   ],
   "source": [
    "start_time = time.time()\n",
    "\n",
    "all_mail = {}\n",
    "for idx, row in df.iterrows():\n",
    "    # print(idx, row.Status_code, row.Mail_num.strip(), row.Mail_datetime)\n",
    "    \n",
    "    if not row.Mail_num.strip() in all_mail:\n",
    "        all_mail[row.Mail_num.strip()] = []\n",
    "        \n",
    "    all_mail[row.Mail_num.strip()].append((row.Status_code, row.Mail_datetime))\n",
    "    \n",
    "time_diff = time.time() - start_time\n",
    "print(\"處理 \",len(df), \"筆資料，組成 \", len(all_mail.keys()), \" 筆資料，共執行：\", time_diff, \"秒\")"
   ]
  },
  {
   "cell_type": "code",
   "execution_count": 101,
   "metadata": {},
   "outputs": [
    {
     "data": {
      "text/plain": [
       "4419944"
      ]
     },
     "execution_count": 101,
     "metadata": {},
     "output_type": "execute_result"
    }
   ],
   "source": [
    "len(all_mail.keys())"
   ]
  },
  {
   "cell_type": "code",
   "execution_count": 102,
   "metadata": {},
   "outputs": [],
   "source": [
    "def convert_2_edge(mail_status):\n",
    "    edges = []\n",
    "    for idx in range(len(mail_status) - 1):\n",
    "        edges.append((mail_status[idx][0], mail_status[idx + 1][0]))\n",
    "        \n",
    "    return edges\n",
    "\n",
    "# mail_status = all_mail[\"02620770702618\"]\n",
    "# convert_2_edge(mail_status)"
   ]
  },
  {
   "cell_type": "code",
   "execution_count": 103,
   "metadata": {},
   "outputs": [],
   "source": [
    "all_edges = []\n",
    "for mail_code in all_mail:\n",
    "    status_num = len(all_mail[mail_code])\n",
    "    \n",
    "    if(status_num) > 1:\n",
    "        mail_status = all_mail[mail_code]\n",
    "        all_edges.extend(convert_2_edge(mail_status))"
   ]
  },
  {
   "cell_type": "code",
   "execution_count": 104,
   "metadata": {},
   "outputs": [],
   "source": [
    "value_list = {}\n",
    "for edge, value in collections.Counter(all_edges).most_common(1000):\n",
    "    value_list[edge] = value"
   ]
  },
  {
   "cell_type": "code",
   "execution_count": 105,
   "metadata": {},
   "outputs": [],
   "source": [
    "list_max = np.max(list(value_list.values()))\n",
    "list_min = np.min(list(value_list.values()))"
   ]
  },
  {
   "cell_type": "code",
   "execution_count": 106,
   "metadata": {},
   "outputs": [],
   "source": [
    "list_diff = float(list_max - list_min)"
   ]
  },
  {
   "cell_type": "code",
   "execution_count": 107,
   "metadata": {},
   "outputs": [],
   "source": [
    "k = 20\n",
    "normal_val = lambda x: int(k/3+k*2*(x-list_min)/list_diff)"
   ]
  },
  {
   "cell_type": "code",
   "execution_count": 108,
   "metadata": {},
   "outputs": [],
   "source": [
    "data_edges = []\n",
    "for edge, value in collections.Counter(all_edges).most_common(10000):\n",
    "    edge = {\"source\": edge[0], \"target\":edge[1], \"value\":normal_val(value)}\n",
    "    data_edges.append(edge)"
   ]
  },
  {
   "cell_type": "code",
   "execution_count": 109,
   "metadata": {
    "scrolled": true
   },
   "outputs": [],
   "source": [
    "all_data = {\"nodes\":data_nodes, \"links\":data_edges}"
   ]
  },
  {
   "cell_type": "code",
   "execution_count": 110,
   "metadata": {},
   "outputs": [
    {
     "data": {
      "text/plain": [
       "52547"
      ]
     },
     "execution_count": 110,
     "metadata": {},
     "output_type": "execute_result"
    }
   ],
   "source": [
    "open(\"data_4_d3.json\",'w').write(json.dumps(all_data, indent = 2))"
   ]
  },
  {
   "cell_type": "code",
   "execution_count": null,
   "metadata": {},
   "outputs": [],
   "source": []
  }
 ],
 "metadata": {
  "kernelspec": {
   "display_name": "Python 3",
   "language": "python",
   "name": "python3"
  },
  "language_info": {
   "codemirror_mode": {
    "name": "ipython",
    "version": 3
   },
   "file_extension": ".py",
   "mimetype": "text/x-python",
   "name": "python",
   "nbconvert_exporter": "python",
   "pygments_lexer": "ipython3",
   "version": "3.7.0"
  }
 },
 "nbformat": 4,
 "nbformat_minor": 2
}
